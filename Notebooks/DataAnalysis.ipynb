{
  "nbformat": 4,
  "nbformat_minor": 0,
  "metadata": {
    "colab": {
      "provenance": [],
      "gpuType": "T4"
    },
    "kernelspec": {
      "name": "python3",
      "display_name": "Python 3"
    },
    "language_info": {
      "name": "python"
    }
  },
  "cells": [
    {
      "cell_type": "markdown",
      "source": [
        "# Introduction\n",
        "purpose of this notebok is to performe Data analysis of **Liar** Dataset, for Final year project\n",
        "\n",
        "[\"Liar, Liar Pants on Fire\": A New Benchmark Dataset for Fake News Detection](https://arxiv.org/abs/1705.00648)\n",
        "\n",
        "Overview:\n",
        "\n",
        "Automatic fake news detection is a challenging problem in deception detection, and it has tremendous real-world political and social impacts. However, statistical approaches to combating fake news has been dramatically limited by the lack of labeled benchmark datasets. In this paper, we present liar: a new, publicly available dataset for fake news detection. We collected a decade-long, 12.8K manually labeled short statements in various contexts from this http URL, which provides detailed analysis report and links to source documents for each case. This dataset can be used for fact-checking research as well. Notably, this new dataset is an order of magnitude larger than previously largest public fake news datasets of similar type. Empirically, we investigate automatic fake news detection based on surface-level linguistic patterns. We have designed a novel, hybrid convolutional neural network to integrate meta-data with text. We show that this hybrid approach can improve a text-only deep learning model."
      ],
      "metadata": {
        "id": "n0YwmG4Chudy"
      }
    },
    {
      "cell_type": "markdown",
      "source": [
        "# Mounting Notebook with Drive"
      ],
      "metadata": {
        "id": "0HC5Uz6NxPQ1"
      }
    },
    {
      "cell_type": "code",
      "source": [
        "from google.colab import drive\n",
        "drive.mount('/content/drive')\n"
      ],
      "metadata": {
        "colab": {
          "base_uri": "https://localhost:8080/"
        },
        "id": "qorTTRDTxcOQ",
        "outputId": "2f0874e8-6733-48f8-d03b-8178a4268f35"
      },
      "execution_count": null,
      "outputs": [
        {
          "output_type": "stream",
          "name": "stdout",
          "text": [
            "Mounted at /content/drive\n"
          ]
        }
      ]
    },
    {
      "cell_type": "markdown",
      "source": [
        "#Importing packages\n",
        "**os:** to interact with the operating system.\n",
        "\n",
        "**numpy :** for performing mathematical operations.\n",
        "\n",
        "**matplotlib.pyplot:**  for creating plots and visualizations.\n",
        "\n",
        "**seaborn:** It simplifies the process of creating common types of plotss.\n",
        "\n",
        "**pandas** : provides data structures i.e Series (one-dimensional labeled array), DataFrame (two-dimensional labeled data structure) for data manipulation, cleaning, and analysis."
      ],
      "metadata": {
        "id": "sgatP-fmWwF1"
      }
    },
    {
      "cell_type": "code",
      "source": [
        "import os\n",
        "import numpy as np\n",
        "import seaborn as sns\n",
        "import matplotlib.pyplot as plt\n",
        "import pandas as pd"
      ],
      "metadata": {
        "id": "a66XHhF2NAb4"
      },
      "execution_count": null,
      "outputs": []
    },
    {
      "cell_type": "markdown",
      "source": [
        "#Data Handling\n",
        "This class for load and writing dataset.\n",
        "\n",
        "**Attributes**\n",
        "\n",
        "train_file: file path training data CSV file.\n",
        "\n",
        "val_file: file path validation data CSV file.\n",
        "\n",
        "test_file: file path test data CSV file.\n",
        "\n",
        "**Methods:**\n",
        "\n",
        "**load_csv_data(self, delimiter=','): ***Loads the data from the CSV files into separate pandas DataFrames for training, validation, and testing.\n",
        "\n",
        "***save_csv_data(self, train_data, val_data, test_data, folder=None, delimiter=','):*** Saves the provided DataFrames (train_data, val_data, test_data) as CSV files. If folder is provided, the CSV files will be saved in the specified folder otherwise, they will be saved in the same location as the original files.\n",
        "\n",
        "Note: dilimiter hear indicates if (,) file is csv if (/t) file is tsv"
      ],
      "metadata": {
        "id": "2H41DROTYpwR"
      }
    },
    {
      "cell_type": "code",
      "source": [
        "class DataHandler:\n",
        "    def __init__(self, train_file, val_file, test_file):\n",
        "        self.train_file = train_file\n",
        "        self.val_file = val_file\n",
        "        self.test_file = test_file\n",
        "\n",
        "    def load_csv_data(self, delimiter=','):\n",
        "        self.train_data = pd.read_csv(self.train_file, delimiter=delimiter)\n",
        "        self.val_data = pd.read_csv(self.val_file, delimiter=delimiter)\n",
        "        self.test_data = pd.read_csv(self.test_file, delimiter=delimiter)\n",
        "        return self.train_data, self.val_data, self.test_data\n",
        "\n",
        "\n",
        "\n",
        "    def save_csv_data(self, train_data, val_data, test_data, folder=None, delimiter=','):\n",
        "        if folder:\n",
        "            train_path = os.path.join(folder, 'train.csv')\n",
        "            val_path = os.path.join(folder, 'val.csv')\n",
        "            test_path = os.path.join(folder, 'test.csv')\n",
        "        else:\n",
        "            train_path = self.train_file\n",
        "            val_path = self.val_file\n",
        "            test_path = self.test_file\n",
        "\n",
        "        train_data.to_csv(train_path, index=False, sep=delimiter)\n",
        "        val_data.to_csv(val_path, index=False, sep=delimiter)\n",
        "        test_data.to_csv(test_path, index=False, sep=delimiter)\n",
        "\n",
        "\n"
      ],
      "metadata": {
        "id": "PMKsJ2YWyW7y"
      },
      "execution_count": null,
      "outputs": []
    },
    {
      "cell_type": "markdown",
      "source": [
        "##Loading dataset\n",
        "\n",
        "in this section dataset is being loaded and respective colums are added."
      ],
      "metadata": {
        "id": "OacrtB-TaXO2"
      }
    },
    {
      "cell_type": "code",
      "source": [
        "base_path = '/content/drive/MyDrive'  # base directory where the \"liar\" folder is located\n",
        "foldername= 'liar_dataset'\n",
        "train_path = os.path.join(base_path, foldername, 'train.tsv')\n",
        "val_path = os.path.join(base_path, foldername, 'valid.tsv')\n",
        "test_path = os.path.join(base_path, foldername, 'test.tsv')\n",
        "\n",
        "\n",
        "\n",
        "data_handler = DataHandler(train_path, val_path, test_path)\n",
        "liar_df = data_handler.load_csv_data(delimiter='\\t')\n",
        "\n",
        "column_names = ['ID', 'Label', 'Statement', 'Subject', 'Speaker', 'Job Title',\n",
        "                'State', 'Party Affiliation', 'Barely True Counts',\n",
        "                'False Counts', 'Half True Counts', 'Mostly True Counts',\n",
        "                'Pants on Fire Counts', 'Context']\n",
        "                # liar_df = (train_data,val_data, test_data)\n",
        "\n",
        "for df in liar_df:\n",
        "  df.columns = column_names\n",
        "liar_df[0].info()\n"
      ],
      "metadata": {
        "id": "tTKvo1FGzTWg",
        "colab": {
          "base_uri": "https://localhost:8080/"
        },
        "outputId": "f6163470-12d3-47a9-dc2d-f101d943d0ab"
      },
      "execution_count": null,
      "outputs": [
        {
          "output_type": "stream",
          "name": "stdout",
          "text": [
            "<class 'pandas.core.frame.DataFrame'>\n",
            "RangeIndex: 10239 entries, 0 to 10238\n",
            "Data columns (total 14 columns):\n",
            " #   Column                Non-Null Count  Dtype  \n",
            "---  ------                --------------  -----  \n",
            " 0   ID                    10239 non-null  object \n",
            " 1   Label                 10239 non-null  object \n",
            " 2   Statement             10239 non-null  object \n",
            " 3   Subject               10237 non-null  object \n",
            " 4   Speaker               10237 non-null  object \n",
            " 5   Job Title             7342 non-null   object \n",
            " 6   State                 8031 non-null   object \n",
            " 7   Party Affiliation     10237 non-null  object \n",
            " 8   Barely True Counts    10237 non-null  float64\n",
            " 9   False Counts          10237 non-null  float64\n",
            " 10  Half True Counts      10237 non-null  float64\n",
            " 11  Mostly True Counts    10237 non-null  float64\n",
            " 12  Pants on Fire Counts  10237 non-null  float64\n",
            " 13  Context               10137 non-null  object \n",
            "dtypes: float64(5), object(9)\n",
            "memory usage: 1.1+ MB\n"
          ]
        }
      ]
    },
    {
      "cell_type": "code",
      "source": [
        "df.sample(n=1)\n",
        "\n"
      ],
      "metadata": {
        "colab": {
          "base_uri": "https://localhost:8080/",
          "height": 209
        },
        "id": "IIK3PKU15cdE",
        "outputId": "f6cdf320-7b17-4832-f4be-e9b8ae00cc0d"
      },
      "execution_count": null,
      "outputs": [
        {
          "output_type": "execute_result",
          "data": {
            "text/plain": [
              "            ID      Label                                          Statement  \\\n",
              "359  6577.json  half-true  Last month, 44 of the 50 states saw an increas...   \n",
              "\n",
              "                 Subject       Speaker                   Job Title      State  \\\n",
              "359  economy,jobs,states  scott-walker  Milwaukee County Executive  Wisconsin   \n",
              "\n",
              "    Party Affiliation  Barely True Counts  False Counts  Half True Counts  \\\n",
              "359        republican                  26            41                32   \n",
              "\n",
              "     Mostly True Counts  Pants on Fire Counts  \\\n",
              "359                  40                    11   \n",
              "\n",
              "                                               Context  \n",
              "359  a speech to the Republican National Convention...  "
            ],
            "text/html": [
              "\n",
              "  <div id=\"df-0ca16eed-8279-4240-aa15-307a9f9b526e\">\n",
              "    <div class=\"colab-df-container\">\n",
              "      <div>\n",
              "<style scoped>\n",
              "    .dataframe tbody tr th:only-of-type {\n",
              "        vertical-align: middle;\n",
              "    }\n",
              "\n",
              "    .dataframe tbody tr th {\n",
              "        vertical-align: top;\n",
              "    }\n",
              "\n",
              "    .dataframe thead th {\n",
              "        text-align: right;\n",
              "    }\n",
              "</style>\n",
              "<table border=\"1\" class=\"dataframe\">\n",
              "  <thead>\n",
              "    <tr style=\"text-align: right;\">\n",
              "      <th></th>\n",
              "      <th>ID</th>\n",
              "      <th>Label</th>\n",
              "      <th>Statement</th>\n",
              "      <th>Subject</th>\n",
              "      <th>Speaker</th>\n",
              "      <th>Job Title</th>\n",
              "      <th>State</th>\n",
              "      <th>Party Affiliation</th>\n",
              "      <th>Barely True Counts</th>\n",
              "      <th>False Counts</th>\n",
              "      <th>Half True Counts</th>\n",
              "      <th>Mostly True Counts</th>\n",
              "      <th>Pants on Fire Counts</th>\n",
              "      <th>Context</th>\n",
              "    </tr>\n",
              "  </thead>\n",
              "  <tbody>\n",
              "    <tr>\n",
              "      <th>359</th>\n",
              "      <td>6577.json</td>\n",
              "      <td>half-true</td>\n",
              "      <td>Last month, 44 of the 50 states saw an increas...</td>\n",
              "      <td>economy,jobs,states</td>\n",
              "      <td>scott-walker</td>\n",
              "      <td>Milwaukee County Executive</td>\n",
              "      <td>Wisconsin</td>\n",
              "      <td>republican</td>\n",
              "      <td>26</td>\n",
              "      <td>41</td>\n",
              "      <td>32</td>\n",
              "      <td>40</td>\n",
              "      <td>11</td>\n",
              "      <td>a speech to the Republican National Convention...</td>\n",
              "    </tr>\n",
              "  </tbody>\n",
              "</table>\n",
              "</div>\n",
              "      <button class=\"colab-df-convert\" onclick=\"convertToInteractive('df-0ca16eed-8279-4240-aa15-307a9f9b526e')\"\n",
              "              title=\"Convert this dataframe to an interactive table.\"\n",
              "              style=\"display:none;\">\n",
              "        \n",
              "  <svg xmlns=\"http://www.w3.org/2000/svg\" height=\"24px\"viewBox=\"0 0 24 24\"\n",
              "       width=\"24px\">\n",
              "    <path d=\"M0 0h24v24H0V0z\" fill=\"none\"/>\n",
              "    <path d=\"M18.56 5.44l.94 2.06.94-2.06 2.06-.94-2.06-.94-.94-2.06-.94 2.06-2.06.94zm-11 1L8.5 8.5l.94-2.06 2.06-.94-2.06-.94L8.5 2.5l-.94 2.06-2.06.94zm10 10l.94 2.06.94-2.06 2.06-.94-2.06-.94-.94-2.06-.94 2.06-2.06.94z\"/><path d=\"M17.41 7.96l-1.37-1.37c-.4-.4-.92-.59-1.43-.59-.52 0-1.04.2-1.43.59L10.3 9.45l-7.72 7.72c-.78.78-.78 2.05 0 2.83L4 21.41c.39.39.9.59 1.41.59.51 0 1.02-.2 1.41-.59l7.78-7.78 2.81-2.81c.8-.78.8-2.07 0-2.86zM5.41 20L4 18.59l7.72-7.72 1.47 1.35L5.41 20z\"/>\n",
              "  </svg>\n",
              "      </button>\n",
              "      \n",
              "  <style>\n",
              "    .colab-df-container {\n",
              "      display:flex;\n",
              "      flex-wrap:wrap;\n",
              "      gap: 12px;\n",
              "    }\n",
              "\n",
              "    .colab-df-convert {\n",
              "      background-color: #E8F0FE;\n",
              "      border: none;\n",
              "      border-radius: 50%;\n",
              "      cursor: pointer;\n",
              "      display: none;\n",
              "      fill: #1967D2;\n",
              "      height: 32px;\n",
              "      padding: 0 0 0 0;\n",
              "      width: 32px;\n",
              "    }\n",
              "\n",
              "    .colab-df-convert:hover {\n",
              "      background-color: #E2EBFA;\n",
              "      box-shadow: 0px 1px 2px rgba(60, 64, 67, 0.3), 0px 1px 3px 1px rgba(60, 64, 67, 0.15);\n",
              "      fill: #174EA6;\n",
              "    }\n",
              "\n",
              "    [theme=dark] .colab-df-convert {\n",
              "      background-color: #3B4455;\n",
              "      fill: #D2E3FC;\n",
              "    }\n",
              "\n",
              "    [theme=dark] .colab-df-convert:hover {\n",
              "      background-color: #434B5C;\n",
              "      box-shadow: 0px 1px 3px 1px rgba(0, 0, 0, 0.15);\n",
              "      filter: drop-shadow(0px 1px 2px rgba(0, 0, 0, 0.3));\n",
              "      fill: #FFFFFF;\n",
              "    }\n",
              "  </style>\n",
              "\n",
              "      <script>\n",
              "        const buttonEl =\n",
              "          document.querySelector('#df-0ca16eed-8279-4240-aa15-307a9f9b526e button.colab-df-convert');\n",
              "        buttonEl.style.display =\n",
              "          google.colab.kernel.accessAllowed ? 'block' : 'none';\n",
              "\n",
              "        async function convertToInteractive(key) {\n",
              "          const element = document.querySelector('#df-0ca16eed-8279-4240-aa15-307a9f9b526e');\n",
              "          const dataTable =\n",
              "            await google.colab.kernel.invokeFunction('convertToInteractive',\n",
              "                                                     [key], {});\n",
              "          if (!dataTable) return;\n",
              "\n",
              "          const docLinkHtml = 'Like what you see? Visit the ' +\n",
              "            '<a target=\"_blank\" href=https://colab.research.google.com/notebooks/data_table.ipynb>data table notebook</a>'\n",
              "            + ' to learn more about interactive tables.';\n",
              "          element.innerHTML = '';\n",
              "          dataTable['output_type'] = 'display_data';\n",
              "          await google.colab.output.renderOutput(dataTable, element);\n",
              "          const docLink = document.createElement('div');\n",
              "          docLink.innerHTML = docLinkHtml;\n",
              "          element.appendChild(docLink);\n",
              "        }\n",
              "      </script>\n",
              "    </div>\n",
              "  </div>\n",
              "  "
            ]
          },
          "metadata": {},
          "execution_count": 5
        }
      ]
    },
    {
      "cell_type": "markdown",
      "source": [
        "#Visualization & Exploration of Content"
      ],
      "metadata": {
        "id": "hpS-IuvJchem"
      }
    },
    {
      "cell_type": "markdown",
      "source": [
        "##Label distribution\n",
        "\n",
        "This datset has total of 6 labels, it is categorised into\n",
        "\n",
        "barely-true\n",
        "\n",
        "false\n",
        "half-true\n",
        "mostly-true\n",
        "pants-fire\n",
        "true"
      ],
      "metadata": {
        "id": "O6bfLqnud5qx"
      }
    },
    {
      "cell_type": "code",
      "source": [
        "# Concatenate label counts from all dataframes\n",
        "label_counts = pd.concat([df['Label'].value_counts() for df in liar_df])\n",
        "\n",
        "# Group and sum the label counts\n",
        "label_counts = label_counts.groupby(level=0).sum()\n",
        "\n",
        "# Plot a bar chart\n",
        "plt.bar(label_counts.index, label_counts.values)\n",
        "\n",
        "# Set labels and title\n",
        "plt.xlabel('Label')\n",
        "plt.ylabel('Count')\n",
        "plt.title('Distribution of Labels')\n",
        "\n",
        "# Rotate x-axis labels if needed\n",
        "plt.xticks(rotation=90)\n",
        "\n",
        "# Display the chart\n",
        "plt.show()\n",
        "\n",
        "print(label_counts)\n"
      ],
      "metadata": {
        "colab": {
          "base_uri": "https://localhost:8080/",
          "height": 657
        },
        "id": "tNJx3RNyCEk6",
        "outputId": "dcf85d1b-7a62-427f-c7ab-3c12cac0f256"
      },
      "execution_count": null,
      "outputs": [
        {
          "output_type": "display_data",
          "data": {
            "text/plain": [
              "<Figure size 640x480 with 1 Axes>"
            ],
            "image/png": "[encoded data removed]"
          },
          "metadata": {}
        },
        {
          "output_type": "stream",
          "name": "stdout",
          "text": [
            "barely-true    2102\n",
            "false          2506\n",
            "half-true      2627\n",
            "mostly-true    2454\n",
            "pants-fire     1047\n",
            "true           2052\n",
            "Name: Label, dtype: int64\n"
          ]
        }
      ]
    },
    {
      "cell_type": "markdown",
      "source": [
        "##Distribution of Subjects:\n",
        "\n",
        "subject here indicate different topics this dataset is compromised of\n",
        "\n",
        "here in this seciton Top 10 most appearing subject are printed & ploted\n",
        "\n",
        "There are total of **143 unique subjects**"
      ],
      "metadata": {
        "id": "XW-ex3YGgYOJ"
      }
    },
    {
      "cell_type": "code",
      "source": [
        "# Split subjects on commas and create separate rows\n",
        "subject_counts = pd.concat([df['Subject'].str.split(',').explode().value_counts() for df in liar_df])\n",
        "\n",
        "# Calculate the count for each unique subject\n",
        "subject_counts = subject_counts.groupby(level=0).sum()\n",
        "\n",
        "# Get the number of unique subjects\n",
        "num_unique_subjects = len(subject_counts)\n",
        "\n",
        "# Sort the subjects by count in descending order\n",
        "subject_counts_sorted = subject_counts.sort_values(ascending=False)\n",
        "\n",
        "# Select the top 10 most frequent subjects\n",
        "top_10_subjects = subject_counts_sorted.head(10)\n",
        "\n",
        "# Print the number of unique subjects\n",
        "print(\"Number of Unique Subjects:\", num_unique_subjects)\n",
        "\n",
        "# Plot a bar chart for top 10 subjects\n",
        "plt.figure(figsize=(10, 6))\n",
        "plt.bar(top_10_subjects.index, top_10_subjects.values)\n",
        "plt.xlabel('Subject')\n",
        "plt.ylabel('Count')\n",
        "plt.title('Top 10 Subjects')\n",
        "plt.xticks(rotation=90)\n",
        "plt.tight_layout()\n",
        "plt.show()\n",
        "\n",
        "# Print the top 10 subjects\n",
        "print(\"Top 10 Subjects:\")\n",
        "print(top_10_subjects)\n"
      ],
      "metadata": {
        "colab": {
          "base_uri": "https://localhost:8080/",
          "height": 828
        },
        "id": "ldq04t4n5Ttv",
        "outputId": "1df497b3-fbb9-4de7-d7af-881efbe8cd75"
      },
      "execution_count": null,
      "outputs": [
        {
          "output_type": "stream",
          "name": "stdout",
          "text": [
            "Number of Unique Subjects: 144\n"
          ]
        },
        {
          "output_type": "display_data",
          "data": {
            "text/plain": [
              "<Figure size 1000x600 with 1 Axes>"
            ],
            "image/png": "[encoded data removed]"
          },
          "metadata": {}
        },
        {
          "output_type": "stream",
          "name": "stdout",
          "text": [
            "Top 10 Subjects:\n",
            "economy                 1431\n",
            "health-care             1426\n",
            "taxes                   1218\n",
            "federal-budget           937\n",
            "education                926\n",
            "jobs                     898\n",
            "state-budget             879\n",
            "candidates-biography     805\n",
            "elections                757\n",
            "immigration              641\n",
            "Name: Subject, dtype: int64\n"
          ]
        }
      ]
    },
    {
      "cell_type": "markdown",
      "source": [
        "##Distribution of Word Lengths:\n",
        "\n",
        "There are total of 12k statements\n",
        "\n",
        "In this section the length of words in each statement is calculated and stored in the word_lengths list. The maximum word length is determined to identify the longest word in all statements, and the mean word which is length is calculated to understand the average word length across the dataset."
      ],
      "metadata": {
        "id": "ODmob-wJjyhh"
      }
    },
    {
      "cell_type": "code",
      "source": [
        "combined_statements = []    # Initialize an empty list to store all the statements\n",
        "max_word_len = 0    # Initialize the maximum word length as 0\n",
        "word_lengths = []    # Initialize an empty list to store the lengths of words\n",
        "char_lengths = []    # Initialize an empty list to store the lengths of characters\n",
        "\n",
        "# Iterate through each dataframe in liar_df\n",
        "for df in liar_df:\n",
        "    statements = df['Statement']    # Get the statements column from the dataframe\n",
        "    combined_statements.extend(statements)    # Append the statements to the combined_statements list\n",
        "\n",
        "    # Iterate through each statement\n",
        "    for statement in statements:\n",
        "        words = statement.split()    # Split the statement into words\n",
        "        word_len = len(words)    # Get the length of words in the statement\n",
        "        char_len = len(statement)    # Get the length of characters in the statement\n",
        "        word_lengths.append(word_len)    # Append the word length to the word_lengths list\n",
        "        char_lengths.append(char_len)    # Append the character length to the char_lengths list\n",
        "        max_word_len = max(max_word_len, word_len)    # Update the maximum word length if necessary\n",
        "\n",
        "print('Number of statements:', len(combined_statements))\n",
        "print('Max length of words in the statements:', max_word_len)\n",
        "print('Mean length of words in the statements:', np.mean(word_lengths))\n",
        "\n",
        "# Plot a countplot of word lengths\n",
        "plt.figure(figsize=(20, 5))\n",
        "g = sns.countplot(x=word_lengths)\n",
        "g.set_xticklabels(g.get_xticklabels(), rotation=50)\n",
        "plt.xlabel('Word Length')\n",
        "plt.ylabel('Count')\n",
        "plt.title('Distribution of Word Lengths')\n",
        "plt.tight_layout()\n",
        "plt.show()\n",
        "\n",
        "print(\"Length Ranges:\")\n",
        "print(\"Minimum Character Length:\", min(char_lengths))\n",
        "print(\"Maximum Character Length:\", max(char_lengths))\n"
      ],
      "metadata": {
        "colab": {
          "base_uri": "https://localhost:8080/",
          "height": 444
        },
        "id": "xtoZpmS5RJHd",
        "outputId": "6e104769-ffc3-47a8-9f15-9bc339734984"
      },
      "execution_count": null,
      "outputs": [
        {
          "output_type": "stream",
          "name": "stdout",
          "text": [
            "Number of statements: 12788\n",
            "Max length of words in the statements: 467\n",
            "Mean length of words in the statements: 18.042305286205817\n"
          ]
        },
        {
          "output_type": "display_data",
          "data": {
            "text/plain": [
              "<Figure size 2000x500 with 1 Axes>"
            ],
            "image/png": "[encoded data removed]"
          },
          "metadata": {}
        },
        {
          "output_type": "stream",
          "name": "stdout",
          "text": [
            "Length Ranges:\n",
            "Minimum Character Length: 11\n",
            "Maximum Character Length: 3192\n"
          ]
        }
      ]
    },
    {
      "cell_type": "markdown",
      "source": [
        "#Formating Dataset"
      ],
      "metadata": {
        "id": "3BHPg7gTlERj"
      }
    },
    {
      "cell_type": "markdown",
      "source": [
        "## Merging Labels into True or False\n",
        "\n",
        "in this section\n",
        "\n",
        "1.   merging labels into true or false\n",
        "2.   checking to see if there are any missing values\n",
        "\n"
      ],
      "metadata": {
        "id": "JLjr_8Chl33j"
      }
    },
    {
      "cell_type": "code",
      "source": [
        "for df in liar_df:\n",
        "    # Merge labels to 'true' or 'false'\n",
        "    df['Label'] = df['Label'].map({'true': 'true', 'mostly-true': 'true', 'half-true': 'true',\n",
        "                                   'barely-true': 'false', 'false': 'false', 'pants-fire': 'false'})\n",
        "\n",
        "    # Create a new column 'Label_Value' with values 1 for true and 0 for false\n",
        "    df['Label_Value'] = df['Label'].map({'true': 1, 'false': 0})\n",
        "\n",
        "# Concatenate label counts from all dataframes\n",
        "label_counts = pd.concat([df['Label'].value_counts() for df in liar_df])\n",
        "\n",
        "# Group and sum the label counts\n",
        "label_counts = label_counts.groupby(level=0).sum()\n",
        "\n",
        "# Plot a bar chart\n",
        "plt.bar(label_counts.index, label_counts.values)\n",
        "\n",
        "# Set labels and title\n",
        "plt.xlabel('Label')\n",
        "plt.ylabel('Count')\n",
        "plt.title('Distribution of Labels')\n",
        "\n",
        "# Rotate x-axis labels if needed\n",
        "plt.xticks(rotation=90)\n",
        "\n",
        "# Display the chart\n",
        "plt.show()\n",
        "\n",
        "print(label_counts)\n",
        "\n"
      ],
      "metadata": {
        "id": "KNiEQjtVUJ6w",
        "colab": {
          "base_uri": "https://localhost:8080/",
          "height": 542
        },
        "outputId": "5e0b770e-cc8c-469e-91eb-3f45d9bb16c9"
      },
      "execution_count": null,
      "outputs": [
        {
          "output_type": "display_data",
          "data": {
            "text/plain": [
              "<Figure size 640x480 with 1 Axes>"
            ],
            "image/png": "[encoded data removed]"
          },
          "metadata": {}
        },
        {
          "output_type": "stream",
          "name": "stdout",
          "text": [
            "false    5655\n",
            "true     7133\n",
            "Name: Label, dtype: int64\n"
          ]
        }
      ]
    },
    {
      "cell_type": "code",
      "source": [
        "# Iterate over each dataframe in liar_df\n",
        "for df in liar_df:\n",
        "    # Check for null values in the 'Label' column\n",
        "    null_labels = df['Label'].isnull().sum()\n",
        "\n",
        "    # Check for null values in the 'LabelValue' column\n",
        "    null_label_values = df['Label_Value'].isnull().sum()\n",
        "\n",
        "    # Print the number of null values in each column\n",
        "    print(\"Number of null labels:\", null_labels)\n",
        "    print(\"Number of null label values:\", null_label_values)\n",
        "    print()\n"
      ],
      "metadata": {
        "colab": {
          "base_uri": "https://localhost:8080/"
        },
        "id": "PNEAiFoFLj2h",
        "outputId": "88ebf8d9-e7d9-4475-9e93-33c92bac4dfd"
      },
      "execution_count": null,
      "outputs": [
        {
          "output_type": "stream",
          "name": "stdout",
          "text": [
            "Number of null labels: 0\n",
            "Number of null label values: 0\n",
            "\n",
            "Number of null labels: 0\n",
            "Number of null label values: 0\n",
            "\n",
            "Number of null labels: 0\n",
            "Number of null label values: 0\n",
            "\n"
          ]
        }
      ]
    },
    {
      "cell_type": "markdown",
      "source": [
        "##Droping unnecessary columns\n",
        "\n",
        "only the statement, label & label_value are kept"
      ],
      "metadata": {
        "id": "3CC34NOcsltn"
      }
    },
    {
      "cell_type": "code",
      "source": [
        "updated_liar_df = []    # Initialize an empty list to store the updated dataframes\n",
        "\n",
        "# Iterate through each dataframe in liar_df\n",
        "for df in liar_df:\n",
        "    updated_df = df[['Statement', 'Label', 'Label_Value']].copy()    # Create a new dataframe with selected columns\n",
        "    updated_liar_df.append(updated_df)    # Append the updated dataframe to the updated_liar_df list\n",
        "\n",
        "liar_df = tuple(updated_liar_df)    # Convert the updated_liar_df list to a tuple\n",
        "\n",
        "liar_df[0].info()    # Display the information about the first dataframe in liar_df\n",
        "print('')\n",
        "liar_df[0].sample(n=3)"
      ],
      "metadata": {
        "colab": {
          "base_uri": "https://localhost:8080/",
          "height": 329
        },
        "id": "0qDd-FYyv0Nx",
        "outputId": "5a7002af-c4f4-45a9-fbcf-cd6125ddf0c4"
      },
      "execution_count": null,
      "outputs": [
        {
          "output_type": "stream",
          "name": "stdout",
          "text": [
            "<class 'pandas.core.frame.DataFrame'>\n",
            "RangeIndex: 10239 entries, 0 to 10238\n",
            "Data columns (total 3 columns):\n",
            " #   Column       Non-Null Count  Dtype \n",
            "---  ------       --------------  ----- \n",
            " 0   Statement    10239 non-null  object\n",
            " 1   Label        10239 non-null  object\n",
            " 2   Label_Value  10239 non-null  int64 \n",
            "dtypes: int64(1), object(2)\n",
            "memory usage: 240.1+ KB\n",
            "\n"
          ]
        },
        {
          "output_type": "execute_result",
          "data": {
            "text/plain": [
              "                                              Statement  Label  Label_Value\n",
              "5316  Says the number-one source of illegal immigrat...  false            0\n",
              "8060  The tax policies of George W. Bush created a d...  false            0\n",
              "6386  Health insurance premiums \"have almost doubled...   true            1"
            ],
            "text/html": [
              "\n",
              "  <div id=\"df-8d27e0fc-938d-4753-baab-0bef9f012ce0\">\n",
              "    <div class=\"colab-df-container\">\n",
              "      <div>\n",
              "<style scoped>\n",
              "    .dataframe tbody tr th:only-of-type {\n",
              "        vertical-align: middle;\n",
              "    }\n",
              "\n",
              "    .dataframe tbody tr th {\n",
              "        vertical-align: top;\n",
              "    }\n",
              "\n",
              "    .dataframe thead th {\n",
              "        text-align: right;\n",
              "    }\n",
              "</style>\n",
              "<table border=\"1\" class=\"dataframe\">\n",
              "  <thead>\n",
              "    <tr style=\"text-align: right;\">\n",
              "      <th></th>\n",
              "      <th>Statement</th>\n",
              "      <th>Label</th>\n",
              "      <th>Label_Value</th>\n",
              "    </tr>\n",
              "  </thead>\n",
              "  <tbody>\n",
              "    <tr>\n",
              "      <th>5316</th>\n",
              "      <td>Says the number-one source of illegal immigrat...</td>\n",
              "      <td>false</td>\n",
              "      <td>0</td>\n",
              "    </tr>\n",
              "    <tr>\n",
              "      <th>8060</th>\n",
              "      <td>The tax policies of George W. Bush created a d...</td>\n",
              "      <td>false</td>\n",
              "      <td>0</td>\n",
              "    </tr>\n",
              "    <tr>\n",
              "      <th>6386</th>\n",
              "      <td>Health insurance premiums \"have almost doubled...</td>\n",
              "      <td>true</td>\n",
              "      <td>1</td>\n",
              "    </tr>\n",
              "  </tbody>\n",
              "</table>\n",
              "</div>\n",
              "      <button class=\"colab-df-convert\" onclick=\"convertToInteractive('df-8d27e0fc-938d-4753-baab-0bef9f012ce0')\"\n",
              "              title=\"Convert this dataframe to an interactive table.\"\n",
              "              style=\"display:none;\">\n",
              "        \n",
              "  <svg xmlns=\"http://www.w3.org/2000/svg\" height=\"24px\"viewBox=\"0 0 24 24\"\n",
              "       width=\"24px\">\n",
              "    <path d=\"M0 0h24v24H0V0z\" fill=\"none\"/>\n",
              "    <path d=\"M18.56 5.44l.94 2.06.94-2.06 2.06-.94-2.06-.94-.94-2.06-.94 2.06-2.06.94zm-11 1L8.5 8.5l.94-2.06 2.06-.94-2.06-.94L8.5 2.5l-.94 2.06-2.06.94zm10 10l.94 2.06.94-2.06 2.06-.94-2.06-.94-.94-2.06-.94 2.06-2.06.94z\"/><path d=\"M17.41 7.96l-1.37-1.37c-.4-.4-.92-.59-1.43-.59-.52 0-1.04.2-1.43.59L10.3 9.45l-7.72 7.72c-.78.78-.78 2.05 0 2.83L4 21.41c.39.39.9.59 1.41.59.51 0 1.02-.2 1.41-.59l7.78-7.78 2.81-2.81c.8-.78.8-2.07 0-2.86zM5.41 20L4 18.59l7.72-7.72 1.47 1.35L5.41 20z\"/>\n",
              "  </svg>\n",
              "      </button>\n",
              "      \n",
              "  <style>\n",
              "    .colab-df-container {\n",
              "      display:flex;\n",
              "      flex-wrap:wrap;\n",
              "      gap: 12px;\n",
              "    }\n",
              "\n",
              "    .colab-df-convert {\n",
              "      background-color: #E8F0FE;\n",
              "      border: none;\n",
              "      border-radius: 50%;\n",
              "      cursor: pointer;\n",
              "      display: none;\n",
              "      fill: #1967D2;\n",
              "      height: 32px;\n",
              "      padding: 0 0 0 0;\n",
              "      width: 32px;\n",
              "    }\n",
              "\n",
              "    .colab-df-convert:hover {\n",
              "      background-color: #E2EBFA;\n",
              "      box-shadow: 0px 1px 2px rgba(60, 64, 67, 0.3), 0px 1px 3px 1px rgba(60, 64, 67, 0.15);\n",
              "      fill: #174EA6;\n",
              "    }\n",
              "\n",
              "    [theme=dark] .colab-df-convert {\n",
              "      background-color: #3B4455;\n",
              "      fill: #D2E3FC;\n",
              "    }\n",
              "\n",
              "    [theme=dark] .colab-df-convert:hover {\n",
              "      background-color: #434B5C;\n",
              "      box-shadow: 0px 1px 3px 1px rgba(0, 0, 0, 0.15);\n",
              "      filter: drop-shadow(0px 1px 2px rgba(0, 0, 0, 0.3));\n",
              "      fill: #FFFFFF;\n",
              "    }\n",
              "  </style>\n",
              "\n",
              "      <script>\n",
              "        const buttonEl =\n",
              "          document.querySelector('#df-8d27e0fc-938d-4753-baab-0bef9f012ce0 button.colab-df-convert');\n",
              "        buttonEl.style.display =\n",
              "          google.colab.kernel.accessAllowed ? 'block' : 'none';\n",
              "\n",
              "        async function convertToInteractive(key) {\n",
              "          const element = document.querySelector('#df-8d27e0fc-938d-4753-baab-0bef9f012ce0');\n",
              "          const dataTable =\n",
              "            await google.colab.kernel.invokeFunction('convertToInteractive',\n",
              "                                                     [key], {});\n",
              "          if (!dataTable) return;\n",
              "\n",
              "          const docLinkHtml = 'Like what you see? Visit the ' +\n",
              "            '<a target=\"_blank\" href=https://colab.research.google.com/notebooks/data_table.ipynb>data table notebook</a>'\n",
              "            + ' to learn more about interactive tables.';\n",
              "          element.innerHTML = '';\n",
              "          dataTable['output_type'] = 'display_data';\n",
              "          await google.colab.output.renderOutput(dataTable, element);\n",
              "          const docLink = document.createElement('div');\n",
              "          docLink.innerHTML = docLinkHtml;\n",
              "          element.appendChild(docLink);\n",
              "        }\n",
              "      </script>\n",
              "    </div>\n",
              "  </div>\n",
              "  "
            ]
          },
          "metadata": {},
          "execution_count": 11
        }
      ]
    },
    {
      "cell_type": "markdown",
      "source": [
        "##Saving Dataset\n",
        "\n"
      ],
      "metadata": {
        "id": "2qOOX4I9tEpu"
      }
    },
    {
      "cell_type": "code",
      "source": [
        "new_folder = os.path.join(base_path, 'Liar collapsed labels')    # Create a new folder path\n",
        "\n",
        "try:\n",
        "    os.mkdir(new_folder)    # Create the new folder\n",
        "except:\n",
        "    print(\"already exist\")    # Print a message if the folder already exists\n",
        "\n",
        "# Save the selected columns from each dataframe in liar_df into separate CSV files within the new folder\n",
        "data_handler.save_csv_data(liar_df[0][['Statement', 'Label', 'Label_Value']],\n",
        "                           liar_df[1][['Statement', 'Label', 'Label_Value']],\n",
        "                           liar_df[2][['Statement', 'Label', 'Label_Value']],\n",
        "                           folder=new_folder)\n",
        "\n",
        "print('Saved in ' + str(new_folder))    # Print a message indicating the successful saving of the files\n"
      ],
      "metadata": {
        "colab": {
          "base_uri": "https://localhost:8080/"
        },
        "id": "kdYG5s3VxMpa",
        "outputId": "2b83d3de-0f1d-4536-b3d2-16f2b36b216a"
      },
      "execution_count": null,
      "outputs": [
        {
          "output_type": "stream",
          "name": "stdout",
          "text": [
            "Saved in /content/drive/MyDrive/Liar collapsed labels\n"
          ]
        }
      ]
    }
  ]
}