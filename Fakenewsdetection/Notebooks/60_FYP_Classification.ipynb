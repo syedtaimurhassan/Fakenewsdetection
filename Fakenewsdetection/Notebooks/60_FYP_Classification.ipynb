{
  "nbformat": 4,
  "nbformat_minor": 0,
  "metadata": {
    "colab": {
      "provenance": []
    },
    "kernelspec": {
      "name": "python3",
      "display_name": "Python 3"
    },
    "language_info": {
      "name": "python"
    }
  },
  "cells": [
    {
      "cell_type": "markdown",
      "source": [
        "#60% FYP - Classification"
      ],
      "metadata": {
        "id": "ULxQsvo9A8V2"
      }
    },
    {
      "cell_type": "code",
      "source": [
        "from google.colab import drive\n",
        "drive.mount('/content/drive')"
      ],
      "metadata": {
        "colab": {
          "base_uri": "https://localhost:8080/"
        },
        "id": "-2CnzvkCA-UW",
        "outputId": "c9bb8512-8297-4fa9-f4fb-48246a044190"
      },
      "execution_count": null,
      "outputs": [
        {
          "output_type": "stream",
          "name": "stdout",
          "text": [
            "Mounted at /content/drive\n"
          ]
        }
      ]
    },
    {
      "cell_type": "markdown",
      "source": [
        "##Loading the Features"
      ],
      "metadata": {
        "id": "Kw7Kjg-WBgmo"
      }
    },
    {
      "cell_type": "code",
      "source": [
        "# Import necessary libraries and modules\n",
        "import pickle\n",
        "import numpy as np\n",
        "import pandas as pd\n",
        "import spacy\n",
        "import joblib\n",
        "import seaborn as sns\n",
        "import matplotlib.pyplot as plt\n",
        "from sklearn.model_selection import GridSearchCV, StratifiedKFold\n",
        "from sklearn.metrics import accuracy_score, classification_report, confusion_matrix, precision_score, recall_score, f1_score\n",
        "from sklearn.ensemble import RandomForestClassifier\n",
        "from sklearn.metrics import classification_report"
      ],
      "metadata": {
        "id": "NU-5KVQ7g0TJ"
      },
      "execution_count": null,
      "outputs": []
    },
    {
      "cell_type": "code",
      "source": [
        "import sklearn\n",
        "print(\"scikit-learn version:\", sklearn.__version__)"
      ],
      "metadata": {
        "colab": {
          "base_uri": "https://localhost:8080/"
        },
        "id": "5R2lX9i_XriY",
        "outputId": "524f00d2-6b2f-4287-c8f2-e2a8d330e680"
      },
      "execution_count": null,
      "outputs": [
        {
          "output_type": "stream",
          "name": "stdout",
          "text": [
            "scikit-learn version: 1.2.2\n"
          ]
        }
      ]
    },
    {
      "cell_type": "code",
      "source": [
        "# Loading features from the pickle files that was saved in 30%\n",
        "with open(\"/content/drive/MyDrive/features/train_features.pkl\", \"rb\") as f:\n",
        "    train_features = pickle.load(f)\n",
        "\n",
        "with open(\"/content/drive/MyDrive/features/test_features.pkl\", \"rb\") as f:\n",
        "    test_features = pickle.load(f)\n",
        "\n",
        "# Convert features into DataFrames\n",
        "train_df = pd.DataFrame(train_features)\n",
        "test_df = pd.DataFrame(test_features)"
      ],
      "metadata": {
        "id": "aIJdrYYABZHi"
      },
      "execution_count": null,
      "outputs": []
    },
    {
      "cell_type": "code",
      "source": [
        "train_df.sample(n=1)"
      ],
      "metadata": {
        "colab": {
          "base_uri": "https://localhost:8080/",
          "height": 80
        },
        "id": "wmRiNqIYBmnh",
        "outputId": "deab0b0b-f147-4332-cfc9-622f768a13b6"
      },
      "execution_count": null,
      "outputs": [
        {
          "output_type": "execute_result",
          "data": {
            "text/plain": [
              "                                               pos_tags  \\\n",
              "4221  [(South, PROPN), (Carolina, PROPN), (has, VERB...   \n",
              "\n",
              "                                         named_entities   sentiment  \\\n",
              "4221  (South, Carolina, has, the, fastest, -, growin...  (0.0, 0.0)   \n",
              "\n",
              "                                         bert_embedding  Label  Label_Value  \n",
              "4221  [[-0.79124254, -0.8277107, -0.026014766, 0.300...   True            1  "
            ],
            "text/html": [
              "\n",
              "  <div id=\"df-4cecb113-a96a-4965-8ee4-1098ecc8c457\" class=\"colab-df-container\">\n",
              "    <div>\n",
              "<style scoped>\n",
              "    .dataframe tbody tr th:only-of-type {\n",
              "        vertical-align: middle;\n",
              "    }\n",
              "\n",
              "    .dataframe tbody tr th {\n",
              "        vertical-align: top;\n",
              "    }\n",
              "\n",
              "    .dataframe thead th {\n",
              "        text-align: right;\n",
              "    }\n",
              "</style>\n",
              "<table border=\"1\" class=\"dataframe\">\n",
              "  <thead>\n",
              "    <tr style=\"text-align: right;\">\n",
              "      <th></th>\n",
              "      <th>pos_tags</th>\n",
              "      <th>named_entities</th>\n",
              "      <th>sentiment</th>\n",
              "      <th>bert_embedding</th>\n",
              "      <th>Label</th>\n",
              "      <th>Label_Value</th>\n",
              "    </tr>\n",
              "  </thead>\n",
              "  <tbody>\n",
              "    <tr>\n",
              "      <th>4221</th>\n",
              "      <td>[(South, PROPN), (Carolina, PROPN), (has, VERB...</td>\n",
              "      <td>(South, Carolina, has, the, fastest, -, growin...</td>\n",
              "      <td>(0.0, 0.0)</td>\n",
              "      <td>[[-0.79124254, -0.8277107, -0.026014766, 0.300...</td>\n",
              "      <td>True</td>\n",
              "      <td>1</td>\n",
              "    </tr>\n",
              "  </tbody>\n",
              "</table>\n",
              "</div>\n",
              "    <div class=\"colab-df-buttons\">\n",
              "\n",
              "  <div class=\"colab-df-container\">\n",
              "    <button class=\"colab-df-convert\" onclick=\"convertToInteractive('df-4cecb113-a96a-4965-8ee4-1098ecc8c457')\"\n",
              "            title=\"Convert this dataframe to an interactive table.\"\n",
              "            style=\"display:none;\">\n",
              "\n",
              "  <svg xmlns=\"http://www.w3.org/2000/svg\" height=\"24px\" viewBox=\"0 -960 960 960\">\n",
              "    <path d=\"M120-120v-720h720v720H120Zm60-500h600v-160H180v160Zm220 220h160v-160H400v160Zm0 220h160v-160H400v160ZM180-400h160v-160H180v160Zm440 0h160v-160H620v160ZM180-180h160v-160H180v160Zm440 0h160v-160H620v160Z\"/>\n",
              "  </svg>\n",
              "    </button>\n",
              "\n",
              "  <style>\n",
              "    .colab-df-container {\n",
              "      display:flex;\n",
              "      gap: 12px;\n",
              "    }\n",
              "\n",
              "    .colab-df-convert {\n",
              "      background-color: #E8F0FE;\n",
              "      border: none;\n",
              "      border-radius: 50%;\n",
              "      cursor: pointer;\n",
              "      display: none;\n",
              "      fill: #1967D2;\n",
              "      height: 32px;\n",
              "      padding: 0 0 0 0;\n",
              "      width: 32px;\n",
              "    }\n",
              "\n",
              "    .colab-df-convert:hover {\n",
              "      background-color: #E2EBFA;\n",
              "      box-shadow: 0px 1px 2px rgba(60, 64, 67, 0.3), 0px 1px 3px 1px rgba(60, 64, 67, 0.15);\n",
              "      fill: #174EA6;\n",
              "    }\n",
              "\n",
              "    .colab-df-buttons div {\n",
              "      margin-bottom: 4px;\n",
              "    }\n",
              "\n",
              "    [theme=dark] .colab-df-convert {\n",
              "      background-color: #3B4455;\n",
              "      fill: #D2E3FC;\n",
              "    }\n",
              "\n",
              "    [theme=dark] .colab-df-convert:hover {\n",
              "      background-color: #434B5C;\n",
              "      box-shadow: 0px 1px 3px 1px rgba(0, 0, 0, 0.15);\n",
              "      filter: drop-shadow(0px 1px 2px rgba(0, 0, 0, 0.3));\n",
              "      fill: #FFFFFF;\n",
              "    }\n",
              "  </style>\n",
              "\n",
              "    <script>\n",
              "      const buttonEl =\n",
              "        document.querySelector('#df-4cecb113-a96a-4965-8ee4-1098ecc8c457 button.colab-df-convert');\n",
              "      buttonEl.style.display =\n",
              "        google.colab.kernel.accessAllowed ? 'block' : 'none';\n",
              "\n",
              "      async function convertToInteractive(key) {\n",
              "        const element = document.querySelector('#df-4cecb113-a96a-4965-8ee4-1098ecc8c457');\n",
              "        const dataTable =\n",
              "          await google.colab.kernel.invokeFunction('convertToInteractive',\n",
              "                                                    [key], {});\n",
              "        if (!dataTable) return;\n",
              "\n",
              "        const docLinkHtml = 'Like what you see? Visit the ' +\n",
              "          '<a target=\"_blank\" href=https://colab.research.google.com/notebooks/data_table.ipynb>data table notebook</a>'\n",
              "          + ' to learn more about interactive tables.';\n",
              "        element.innerHTML = '';\n",
              "        dataTable['output_type'] = 'display_data';\n",
              "        await google.colab.output.renderOutput(dataTable, element);\n",
              "        const docLink = document.createElement('div');\n",
              "        docLink.innerHTML = docLinkHtml;\n",
              "        element.appendChild(docLink);\n",
              "      }\n",
              "    </script>\n",
              "  </div>\n",
              "\n",
              "    </div>\n",
              "  </div>\n"
            ]
          },
          "metadata": {},
          "execution_count": 7
        }
      ]
    },
    {
      "cell_type": "markdown",
      "source": [
        "#Represeting Features In Numerical Format"
      ],
      "metadata": {
        "id": "qb2yQvxJBy9b"
      }
    },
    {
      "cell_type": "markdown",
      "source": [
        "##POS_Tags"
      ],
      "metadata": {
        "id": "7-o6DogFCBHr"
      }
    },
    {
      "cell_type": "code",
      "source": [
        "# Define the POS tags to keep\n",
        "tags_to_keep = {'ADJ', 'ADV', 'CCONJ', 'INTJ', 'NOUN', 'PROPN'}\n",
        "\n",
        "# Extract POS tags as a list of strings, keeping only the tags in tags_to_keep\n",
        "train_pos_tags = train_df['pos_tags'].apply(lambda x: [tag[1] for tag in x if tag[1] in tags_to_keep])\n",
        "test_pos_tags = test_df['pos_tags'].apply(lambda x: [tag[1] for tag in x if tag[1] in tags_to_keep])\n",
        "\n",
        "# Define a function to create a count matrix for POS tags\n",
        "def create_count_matrix(tag_list, unique_tags):\n",
        "    count_matrix = np.zeros((len(tag_list), len(unique_tags)), dtype=int)\n",
        "    for i, tags in enumerate(tag_list):\n",
        "        for tag in tags:\n",
        "            count_matrix[i, unique_tags.index(tag)] += 1\n",
        "    return count_matrix\n",
        "\n",
        "# Get a list of all unique POS tags after filtering\n",
        "all_unique_pos_tags = list(tags_to_keep)\n",
        "\n",
        "# Create count matrices for POS tags after filtering\n",
        "pos_tags_count_train = create_count_matrix(train_pos_tags, all_unique_pos_tags)\n",
        "pos_tags_count_test = create_count_matrix(test_pos_tags, all_unique_pos_tags)\n"
      ],
      "metadata": {
        "id": "a_rGMkeEDNTX"
      },
      "execution_count": null,
      "outputs": []
    },
    {
      "cell_type": "code",
      "source": [
        "pos_tags_count_train[2]"
      ],
      "metadata": {
        "colab": {
          "base_uri": "https://localhost:8080/"
        },
        "id": "bRQ3Cf--DTyO",
        "outputId": "1bf8b30d-ee6b-483a-ea7d-5cb782370ce9"
      },
      "execution_count": null,
      "outputs": [
        {
          "output_type": "execute_result",
          "data": {
            "text/plain": [
              "array([2, 7, 0, 0, 0, 0])"
            ]
          },
          "metadata": {},
          "execution_count": 30
        }
      ]
    },
    {
      "cell_type": "markdown",
      "source": [
        "##Flattening Bert Sentence Embedding"
      ],
      "metadata": {
        "id": "yUV0wUyqezLP"
      }
    },
    {
      "cell_type": "code",
      "source": [
        "# Extract BERT embeddings\n",
        "train_bert_embeddings = train_df['bert_embedding'].tolist()\n",
        "test_bert_embeddings = test_df['bert_embedding'].tolist()\n",
        "\n",
        "# Function to flatten BERT embeddings\n",
        "def flatten_bert_embeddings(embeddings):\n",
        "    return np.array([np.concatenate(embedding).ravel() for embedding in embeddings])\n",
        "\n",
        "# Flatten BERT embeddings\n",
        "train_bert_embeddings = flatten_bert_embeddings(train_bert_embeddings)\n",
        "test_bert_embeddings = flatten_bert_embeddings(test_bert_embeddings)\n"
      ],
      "metadata": {
        "id": "_CrTitdqE0uz"
      },
      "execution_count": null,
      "outputs": []
    },
    {
      "cell_type": "code",
      "source": [
        "# Extract sentiment scores\n",
        "sentiment_train = np.array(train_df['sentiment'].to_list())\n",
        "sentiment_test = np.array(test_df['sentiment'].to_list())\n"
      ],
      "metadata": {
        "id": "7JVtm6bEE4_1"
      },
      "execution_count": null,
      "outputs": []
    },
    {
      "cell_type": "markdown",
      "source": [
        "##Counting Named Entity"
      ],
      "metadata": {
        "id": "Y4YTScarfLDt"
      }
    },
    {
      "cell_type": "code",
      "source": [
        "# Define a list of unique named entity types you want to track\n",
        "unique_entity_types = ['EVENT', 'ORDINAL', 'DATE', 'TIME', 'QUANTITY', 'FAC', 'PERSON', 'ORG', 'WORK_OF_ART', 'GPE', 'LAW', 'NORP', 'PERCENT', 'LOC', 'CARDINAL', 'LANGUAGE', 'MONEY', 'PRODUCT']\n",
        "\n",
        "# Define a function to create a count matrix for named entity types\n",
        "def create_entity_type_count_matrix(entity_list, unique_types):\n",
        "    count_matrix = np.zeros((len(entity_list), len(unique_types)), dtype=int)\n",
        "    for i, doc in enumerate(entity_list):\n",
        "        for entity in doc.ents:\n",
        "            if entity.label_ in unique_types:\n",
        "                count_matrix[i, unique_types.index(entity.label_)] += 1\n",
        "    return count_matrix\n",
        "\n",
        "# Create count matrices for named entity types\n",
        "entity_type_count_train = create_entity_type_count_matrix(train_df['named_entities'], unique_entity_types)\n",
        "entity_type_count_test = create_entity_type_count_matrix(test_df['named_entities'], unique_entity_types)\n"
      ],
      "metadata": {
        "id": "G1YXGL_xGQVj"
      },
      "execution_count": null,
      "outputs": []
    },
    {
      "cell_type": "code",
      "source": [
        "entity_type_count_train[1]"
      ],
      "metadata": {
        "colab": {
          "base_uri": "https://localhost:8080/"
        },
        "id": "2WdVG0RB9eZd",
        "outputId": "784bb46d-9fd5-46bd-d5e2-f99ade9fb618"
      },
      "execution_count": null,
      "outputs": [
        {
          "output_type": "execute_result",
          "data": {
            "text/plain": [
              "array([0, 0, 0, 0, 0, 0, 3, 0, 0, 1, 0, 0, 0, 0, 0, 0, 0, 0])"
            ]
          },
          "metadata": {},
          "execution_count": 40
        }
      ]
    },
    {
      "cell_type": "markdown",
      "source": [
        "##Concatenating Features\n"
      ],
      "metadata": {
        "id": "376cxeyjfU-p"
      }
    },
    {
      "cell_type": "code",
      "source": [
        "# Create a feature matrix by combining BERT embeddings, POS tag counts, named entity type counts, and sentiment scores\n",
        "def create_feature_matrix(bert_embeddings, pos_tags_count, entity_type_count, sentiment_scores):\n",
        "    feature_matrix = np.hstack((bert_embeddings, pos_tags_count, entity_type_count, sentiment_scores))\n",
        "    return feature_matrix\n",
        "\n",
        "# Create feature matrices for the train and test sets\n",
        "train_feature_matrix = create_feature_matrix(train_bert_embeddings, pos_tags_count_train, entity_type_count_train, sentiment_train)\n",
        "test_feature_matrix = create_feature_matrix(test_bert_embeddings, pos_tags_count_test, entity_type_count_test, sentiment_test)\n"
      ],
      "metadata": {
        "id": "Jheq5R3_GXPP"
      },
      "execution_count": null,
      "outputs": []
    },
    {
      "cell_type": "code",
      "source": [
        "train_feature_matrix.shape"
      ],
      "metadata": {
        "colab": {
          "base_uri": "https://localhost:8080/"
        },
        "id": "G5iAq1Un-AX4",
        "outputId": "f4236db6-4280-4a1d-92fb-33097a86b7ff"
      },
      "execution_count": null,
      "outputs": [
        {
          "output_type": "execute_result",
          "data": {
            "text/plain": [
              "(10239, 794)"
            ]
          },
          "metadata": {},
          "execution_count": 41
        }
      ]
    },
    {
      "cell_type": "markdown",
      "source": [
        "#Model Training"
      ],
      "metadata": {
        "id": "Qc7C45e334Rm"
      }
    },
    {
      "cell_type": "code",
      "source": [
        "# Respective Labels for training and testign dataset\n",
        "train_labels = train_df['Label_Value'].astype(int)\n",
        "test_labels = test_df['Label_Value'].astype(int)\n",
        "\n",
        "# Hyperparameter tuning using GridSearchCV\n",
        "param_grid = {\n",
        "    'n_estimators': [50, 100, 150],\n",
        "    'max_depth': [10, 20, None],\n",
        "    'min_samples_split': [2, 5, 10],\n",
        "}\n",
        "\n",
        "# Define a StratifiedKFold cross-validation strategy\n",
        "cv = StratifiedKFold(n_splits=5, shuffle=True, random_state=42)\n",
        "\n",
        "# Create and train a Random Forest classifier with hyperparameter tuning\n",
        "rf_classifier = RandomForestClassifier(random_state=42)\n",
        "grid_search = GridSearchCV(rf_classifier, param_grid, cv=cv, scoring='f1', n_jobs=-1)\n",
        "grid_search.fit(train_feature_matrix, train_labels)\n",
        "\n",
        "# Get the best hyperparameters\n",
        "best_params = grid_search.best_params_\n",
        "best_rf_classifier = grid_search.best_estimator_\n",
        "\n",
        "\n",
        "\n",
        "# Assuming best_rf_classifier is your trained Random Forest model\n",
        "model_filename = '/content/drive/MyDrive/model/random_forest_model.pkl'\n",
        "joblib.dump(best_rf_classifier, model_filename)\n",
        "\n",
        "print(f\"Model saved to {model_filename}\")"
      ],
      "metadata": {
        "colab": {
          "base_uri": "https://localhost:8080/"
        },
        "id": "hIyGAr8jGsf4",
        "outputId": "faf52992-22b6-4854-dbd7-5b6d10047008"
      },
      "execution_count": null,
      "outputs": [
        {
          "output_type": "stream",
          "name": "stdout",
          "text": [
            "Model saved to /content/drive/MyDrive/model/random_forest_model.pkl\n"
          ]
        }
      ]
    },
    {
      "cell_type": "markdown",
      "source": [
        "#Evaluation"
      ],
      "metadata": {
        "id": "St3P1R52387r"
      }
    },
    {
      "cell_type": "code",
      "source": [
        "# Make predictions on the training set\n",
        "train_predictions = best_rf_classifier.predict(train_feature_matrix)\n",
        "\n",
        "# Calculate the training accuracy\n",
        "train_accuracy = accuracy_score(train_labels, train_predictions)\n",
        "print(f\"Training Accuracy: {train_accuracy}\")"
      ],
      "metadata": {
        "colab": {
          "base_uri": "https://localhost:8080/"
        },
        "id": "jSQ6_NCP3h5o",
        "outputId": "f7f0439e-85db-4925-e440-5e7ddc61bc2e"
      },
      "execution_count": null,
      "outputs": [
        {
          "output_type": "stream",
          "name": "stdout",
          "text": [
            "Training Accuracy: 0.8793495458540874\n"
          ]
        }
      ]
    },
    {
      "cell_type": "markdown",
      "source": [
        "\n",
        "\n",
        "*   Precision measures how many of the “positive” predictions made by the model were correct.  **Precision = TP / (TP + FP)**\n",
        "*   Recall measures how many of the positive class samples present in the dataset were correctly identified by the model. Recall = TP / (TP + FN)\n",
        "*   The accuracy metric computes how many times a model made a correct prediction across the entire dataset.\n",
        "* F1-Score = 2 * (Precision * Recall) / (Precision + Recall)\n",
        "\n",
        "\n",
        "\n"
      ],
      "metadata": {
        "id": "MBRUf5U4ZYjv"
      }
    },
    {
      "cell_type": "code",
      "source": [
        "# Make predictions on the validation set\n",
        "test_predictions = best_rf_classifier.predict(test_feature_matrix)\n",
        "test_accuracy = accuracy_score(test_labels, test_predictions)\n",
        "precision = precision_score(test_labels, test_predictions)\n",
        "recall = recall_score(test_labels, test_predictions)\n",
        "f1 = f1_score(test_labels, test_predictions)\n",
        "print(f\"Test Accuracy: {test_accuracy}\")\n",
        "print(f\"Precision: {precision}\")\n",
        "print(f\"Recall: {recall}\")\n",
        "print(f\"F1-Score: {f1}\")"
      ],
      "metadata": {
        "colab": {
          "base_uri": "https://localhost:8080/"
        },
        "id": "3Np3Ke5W655y",
        "outputId": "751927bc-1102-46b4-83b0-6d18203d6e66"
      },
      "execution_count": null,
      "outputs": [
        {
          "output_type": "stream",
          "name": "stdout",
          "text": [
            "Test Accuracy: 0.8173495458540874\n",
            "Precision: 82.349545854087691\n",
            "Recall: 0.7966339410939691\n",
            "F1-Score: 0.803941093969178\n"
          ]
        }
      ]
    },
    {
      "cell_type": "markdown",
      "source": [
        "##Confusion Matrix\n",
        "1. True Positives (TP): Number of samples correctly predicted as “positive.”\n",
        "2. False Positives (FP): Number of samples wrongly predicted as “positive.”\n",
        "3. True Negatives (TN): Number of samples correctly predicted as “negative.”\n",
        "4. False Negatives (FN): Number of samples wrongly predicted as “negative.”"
      ],
      "metadata": {
        "id": "nHUhD_2CY9mH"
      }
    },
    {
      "cell_type": "code",
      "source": [
        "# Assuming you have the true labels in `test_labels` and predictions in `test_predictions`\n",
        "class_labels = [\"False\", \"True\"]\n",
        "\n",
        "# Compute the confusion matrix\n",
        "confusion_mat = confusion_matrix(test_labels, test_predictions)\n",
        "\n",
        "# Plot the confusion matrix using a heatmap\n",
        "plt.figure(figsize=(8, 6))\n",
        "sns.heatmap(confusion_mat, annot=True, fmt=\"d\", cmap=\"Blues\", xticklabels=class_labels, yticklabels=class_labels)\n",
        "plt.title('Confusion Matrix')\n",
        "plt.xlabel('Predicted')\n",
        "plt.ylabel('True')\n",
        "plt.show()\n"
      ],
      "metadata": {
        "colab": {
          "base_uri": "https://localhost:8080/",
          "height": 607
        },
        "id": "zScMZ5cb3DAj",
        "outputId": "164103a8-69f7-42b2-ee6a-650c2c57b0d3"
      },
      "execution_count": null,
      "outputs": [
        {
          "output_type": "display_data",
          "data": {
            "text/plain": [
              "<Figure size 800x600 with 2 Axes>"
            ],
            "image/png": "[encoded data removed]"
          },
          "metadata": {}
        }
      ]
    }
  ]
}